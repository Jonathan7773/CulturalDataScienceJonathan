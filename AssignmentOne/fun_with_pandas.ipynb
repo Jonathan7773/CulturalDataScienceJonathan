{
 "cells": [
  {
   "cell_type": "markdown",
   "id": "67abb133",
   "metadata": {},
   "source": [
    "# Lab 03: Fun with `pandas`!"
   ]
  },
  {
   "cell_type": "markdown",
   "id": "0e4b3b08",
   "metadata": {},
   "source": [
    "Below are some exercises to get you working with `pandas` to manipulate data. As always, get as far as you can, and ask for help when you need it! Your teacher (me), you instructor, and your classmates are all here to help each other get better at coding. Getting the code to work is important, but do also take the time to make sure you understand what the commands are doing. This time, (with the exception of the Stroop challenge), all I've given you is the code to download the data. Then you are on your own. For the Stroop challenge, I gave the you code for the first step—after that, it's up to you :-)"
   ]
  },
  {
   "cell_type": "markdown",
   "id": "c3b21217",
   "metadata": {},
   "source": [
    "## Music sales challenge\n",
    "\n",
    "Write a script that:\n",
    "\n",
    "1. Combines the tables of best-selling physical singles and best-selling digital singles on the Wikipedia page \"List_of_best-selling_singles\"\n",
    "2. Adds a column which marks whether each row is from the list of physical singles or digital singles\n",
    "3. Outputs the artist and single name for the year you were born. If there is no entry for that year, take the closest year after you were born.\n",
    "4. Outputs the artist and single name for the year you were 15 years old."
   ]
  },
  {
   "cell_type": "code",
   "execution_count": 1,
   "id": "a20efc57",
   "metadata": {},
   "outputs": [],
   "source": [
    "# Starter code...\n",
    "\n",
    "#pip install lxml\n",
    "import pandas as pd\n",
    "\n",
    "rawdata = pd.read_html(\"https://en.wikipedia.org/wiki/List_of_best-selling_singles\")\n"
   ]
  },
  {
   "cell_type": "code",
   "execution_count": 2,
   "id": "3217426c",
   "metadata": {},
   "outputs": [],
   "source": [
    "# # 1.\n",
    "\n",
    "# Creating the combined data frames for both physical and digital best selling singles\n",
    "# Checking the data from the wiki page to make sure it is the correct data I combine\n",
    "best_selling = pd.concat([rawdata[0], rawdata[1], rawdata[3], rawdata[4]], ignore_index=True)\n"
   ]
  },
  {
   "cell_type": "code",
   "execution_count": 3,
   "id": "6fe3ec4f",
   "metadata": {},
   "outputs": [],
   "source": [
    "# # 2.\n",
    "\n",
    "# add column indicating whether it is from a physical or digital single\n",
    "# We do this by looking at the year of release and discover that none of the physical singles are released after 2004\n",
    "# We then add a row, using an if statement that says physical if from before 2005 and digital if from 2005 or later\n",
    "best_selling['Type'] = best_selling['Released'].apply(lambda x: 'Physical' if x < 2005 else 'Digital')\n"
   ]
  },
  {
   "cell_type": "code",
   "execution_count": 11,
   "id": "b1f95409",
   "metadata": {},
   "outputs": [
    {
     "name": "stdout",
     "output_type": "stream",
     "text": [
      "\n",
      "Closest to 2000:\n",
      "            Artist                   Single\n",
      "26            Cher                \"Believe\"\n",
      "43  Britney Spears  \"...Baby One More Time\"\n"
     ]
    }
   ],
   "source": [
    "# # 3.\n",
    "# Visually inspectin and finding the artist and single for the closest year (1998) to the year I was born (2000)\n",
    "closest_to_2000 = best_selling[best_selling['Released'] == 1998]\n",
    "\n",
    "# Making pretty print showing only the artist and single from the year 1998\n",
    "print(\"\\nClosest to 2000:\")\n",
    "print(closest_to_2000[['Artist', 'Single']])"
   ]
  },
  {
   "cell_type": "code",
   "execution_count": 13,
   "id": "98f6b37e",
   "metadata": {},
   "outputs": [
    {
     "name": "stdout",
     "output_type": "stream",
     "text": [
      "\n",
      "2015:\n",
      "                                  Artist                    Single\n",
      "50    Wiz Khalifa featuring Charlie Puth           \"See You Again\"\n",
      "53      Mark Ronson featuring Bruno Mars             \"Uptown Funk\"\n",
      "55                            Ed Sheeran       \"Thinking Out Loud\"\n",
      "71                              Maroon 5                   \"Sugar\"\n",
      "76   Major Lazer & DJ Snake featuring MØ                 \"Lean On\"\n",
      "78                        Ellie Goulding     \"Love Me like You Do\"\n",
      "81                                 Adele                   \"Hello\"\n",
      "88                         Justin Bieber           \"Love Yourself\"\n",
      "95                         Justin Bieber                   \"Sorry\"\n",
      "96                          Lukas Graham                 \"7 Years\"\n",
      "102                          Mike Posner  \"I Took a Pill in Ibiza\"\n"
     ]
    }
   ],
   "source": [
    "# # 4.\n",
    "# Here outputs the arit\n",
    "when_15 = best_selling[best_selling['Released'] == 2015]\n",
    "\n",
    "# Making pretty print showing only the artist and single from the year 2015\n",
    "print(\"\\n2015:\")\n",
    "print(when_15[['Artist', 'Single']])"
   ]
  },
  {
   "cell_type": "markdown",
   "id": "eabc0ee7",
   "metadata": {},
   "source": [
    "## Space challenge\n",
    "\n",
    "1. Make a single dataframe that combines the space missions from the 1950's to the 2020's\n",
    "2. Write a script that returns the year with the most launches\n",
    "3. Write a script that returns the most common month for launches\n",
    "4. Write a script that ranks the months from most launches to fewest launches\n"
   ]
  },
  {
   "cell_type": "code",
   "execution_count": null,
   "id": "e621adf3",
   "metadata": {},
   "outputs": [],
   "source": [
    "# Starter code...\n",
    "\n",
    "#%pip install lxml\n",
    "import pandas as pd\n",
    "\n",
    "rawdata = pd.read_html(\"https://en.wikipedia.org/wiki/Timeline_of_Solar_System_exploration\")"
   ]
  },
  {
   "cell_type": "code",
   "execution_count": null,
   "id": "7c58d11d",
   "metadata": {},
   "outputs": [
    {
     "data": {
      "text/plain": [
       "18\n"
      ]
     },
     "metadata": {},
     "output_type": "display_data"
    }
   ],
   "source": [
    "# # 1.\n",
    "\n",
    "# Creating the combined data frames for space missions from 1950's to 2020's \n",
    "space_missions = pd.concat([rawdata[0], rawdata[1], rawdata[2], rawdata[3], rawdata[4], rawdata[5], rawdata[6], rawdata[7]], ignore_index=True)\n",
    "\n",
    "# Turning the 'Launch date' column into a datetime object\n",
    "space_missions['Launch date'] = pd.to_datetime(space_missions['Launch date'], format='%d %B %Y')"
   ]
  },
  {
   "cell_type": "code",
   "execution_count": null,
   "id": "bd030f15",
   "metadata": {},
   "outputs": [
    {
     "data": {
      "text/plain": [
       "The year with the most space missions was 1965 with 12 missions\n"
      ]
     },
     "metadata": {},
     "output_type": "display_data"
    }
   ],
   "source": [
    "# # 2.\n",
    "n_mission_old = 0  \n",
    "\n",
    "# Creating a for loop that goes through each year and checks whether it was more or less than previous years\n",
    "# If it is more, it will update the most_missions and year_most variables, giving us the year with the most missions\n",
    "for i in space_missions['Launch date'].dt.year.unique():\n",
    "    \n",
    "    n_missions_new = len(space_missions[space_missions['Launch date'].dt.year == i])\n",
    "\n",
    "    if n_missions_new > n_mission_old:\n",
    "        most_missions = n_missions_new\n",
    "        year_most = i\n",
    "        n_mission_old = n_missions_new \n",
    "\n",
    "# And of course we make a nice little pretty print\n",
    "print(f'The year with the most space missions was {year_most} with {most_missions} missions')\n"
   ]
  },
  {
   "cell_type": "code",
   "execution_count": null,
   "id": "4867eaff",
   "metadata": {},
   "outputs": [
    {
     "data": {
      "text/plain": [
       "The month with the most launches was 11 with 30 launches\n"
      ]
     },
     "metadata": {},
     "output_type": "display_data"
    }
   ],
   "source": [
    "# # 3.\n",
    "\n",
    "per_month_old = 0\n",
    "# Almost same logic as before\n",
    "for i in space_missions['Launch date'].dt.month.unique():\n",
    "\n",
    "    per_month_new = len(space_missions[space_missions['Launch date'].dt.month == i])\n",
    "\n",
    "    if per_month_new > per_month_old:\n",
    "        month_most_launches = per_month_new\n",
    "        month = i \n",
    "        per_month_old = per_month_new\n",
    "\n",
    "# And we don't stop the pretty printing spree\n",
    "print(f'The month with the most launches was {month} with {month_most_launches} launches')\n",
    " "
   ]
  },
  {
   "cell_type": "code",
   "execution_count": null,
   "id": "2d703548",
   "metadata": {},
   "outputs": [
    {
     "data": {
      "text/plain": [
       "[(np.int32(11), 30), (np.int32(8), 27), (np.int32(10), 24), (np.int32(9), 22), (np.int32(7), 21), (np.int32(1), 19), (np.int32(12), 19), (np.int32(5), 17), (np.int32(3), 15), (np.int32(2), 14), (np.int32(6), 14), (np.int32(4), 13)]\n"
      ]
     },
     "metadata": {},
     "output_type": "display_data"
    }
   ],
   "source": [
    "launches_per_month = {}\n",
    "\n",
    "for i in space_missions['Launch date'].dt.month.unique():\n",
    "\n",
    "    per_month = len(space_missions[space_missions['Launch date'].dt.month == i])\n",
    "\n",
    "    launches_per_month[i] = per_month\n",
    "\n",
    "ranked_months = sorted(launches_per_month.items(), key=lambda item: item[1], reverse=True)"
   ]
  },
  {
   "cell_type": "code",
   "execution_count": null,
   "id": "9c0b37fd",
   "metadata": {},
   "outputs": [
    {
     "data": {
      "text/plain": [
       "The month 11 had 30 launches\n",
       "The month 8 had 27 launches\n",
       "The month 10 had 24 launches\n",
       "The month 9 had 22 launches\n",
       "The month 7 had 21 launches\n",
       "The month 1 had 19 launches\n",
       "The month 12 had 19 launches\n",
       "The month 5 had 17 launches\n",
       "The month 3 had 15 launches\n",
       "The month 2 had 14 launches\n",
       "The month 6 had 14 launches\n",
       "The month 4 had 13 launches\n"
      ]
     },
     "metadata": {},
     "output_type": "display_data"
    }
   ],
   "source": [
    "# Nice print of the ranked months\n",
    "for i, j in ranked_months:\n",
    "    print(f'The month {i} had {j} launches')\n"
   ]
  },
  {
   "cell_type": "markdown",
   "id": "153096e0",
   "metadata": {},
   "source": [
    "## Supervillain challenge\n",
    "\n",
    "1. Write a script that combines the tables showing supervillain debuts from the 30's through the 2010's\n",
    "2. Write a script that ranks each decade in terms of how many supervillains debuted in that decade\n",
    "3. Write a script that ranks the different comics companies in terms of how many supervillains they have, and display the results in a nice table (pandas dataframe)"
   ]
  },
  {
   "cell_type": "code",
   "execution_count": null,
   "id": "1ec41964",
   "metadata": {},
   "outputs": [],
   "source": [
    "rawdata = pd.read_html(\"https://en.wikipedia.org/wiki/List_of_comic_book_supervillain_debuts\")\n"
   ]
  },
  {
   "cell_type": "code",
   "execution_count": null,
   "id": "96008eb7",
   "metadata": {},
   "outputs": [],
   "source": [
    "# # 1.\n",
    "\n",
    "# Creating the combined data frame for supervillains \n",
    "supervillains = pd.concat([rawdata[3], rawdata[4], rawdata[5], rawdata[6], rawdata[7], rawdata[8], rawdata[9], rawdata[10], rawdata[11]], ignore_index=True)\n"
   ]
  },
  {
   "cell_type": "code",
   "execution_count": 14,
   "id": "9e326354",
   "metadata": {},
   "outputs": [
    {
     "name": "stdout",
     "output_type": "stream",
     "text": [
      "The 1940s had 40 supervillain debuts.\n",
      "The 1930s had 21 supervillain debuts.\n",
      "The 1950s had 21 supervillain debuts.\n",
      "The 1990s had 19 supervillain debuts.\n",
      "The 1970s had 17 supervillain debuts.\n",
      "The 1960s had 6 supervillain debuts.\n",
      "The 1980s had 5 supervillain debuts.\n",
      "The 2000s had 5 supervillain debuts.\n",
      "The 2010s had 1 supervillain debuts.\n"
     ]
    }
   ],
   "source": [
    "# # 2.\n",
    "\n",
    "# We first create a nice new decades variable that take the decades from the 1930s to the 2020s\n",
    "decades = range(3, 12)\n",
    "decade_labels = {i: f\"{1900 + i * 10}s\" for i in decades}\n",
    "\n",
    "# Creatin an empty dictionary to store the number of supervillain debuts per decade\n",
    "debut_per_decade = {}\n",
    "\n",
    "# We then loop through the decades and count the number of supervillain debuts per decade\n",
    "for i in decades:\n",
    "\n",
    "    per_decade = len(rawdata[i])\n",
    "\n",
    "    debut_per_decade[decade_labels[i]] = per_decade\n",
    "\n",
    "# ranking the deacades on the number of supervillain debuts\n",
    "ranked_debuts = sorted(debut_per_decade.items(), key=lambda item: item[1], reverse=True)\n",
    "\n",
    "# Nice print of the ranked decades\n",
    "for decade, count in ranked_debuts:\n",
    "    print(f\"The {decade} had {count} supervillain debuts.\")\n"
   ]
  },
  {
   "cell_type": "code",
   "execution_count": null,
   "id": "1a26ce38",
   "metadata": {},
   "outputs": [
    {
     "data": {
      "text/plain": [
       "['DC' 'Lev Gleason Publications' 'Fawcett Comics/DC' 'Marvel/Timely' nan\n",
       " 'Marvel' 'Comico' 'Mirage' 'Eternity' 'Image' 'Dark Horse' 'Image Comics'\n",
       " 'Disney/Hyperion']\n"
      ]
     },
     "metadata": {},
     "output_type": "display_data"
    }
   ],
   "source": [
    "# Seeing the different companies from the dataframe\n",
    "supervillains['Company'].unique()"
   ]
  },
  {
   "cell_type": "code",
   "execution_count": null,
   "id": "87930bf1",
   "metadata": {},
   "outputs": [],
   "source": [
    "# # 3. \n",
    "# Creating a dictionary for the number of supervillains per unique company\n",
    "supervillains_per_company = {}\n",
    "\n",
    "# A for loop that goes through each company and counts how many time a supervillain is listed, when that company is indexed\n",
    "for i in supervillains['Company'].unique():\n",
    "\n",
    "    per_company = len(supervillains[supervillains['Company'] == i])\n",
    "\n",
    "    supervillains_per_company[i] = per_company\n",
    "\n",
    "# Creating a dataframe on the dictionary for nice display\n",
    "df_ranked_company = pd.DataFrame(\n",
    "    list(supervillains_per_company.items()),\n",
    "    columns=['Company', 'Supervillains']\n",
    ")\n",
    "\n",
    "# Ranking the companies on the number of supervillains\n",
    "df_ranked_company = df_ranked_company.sort_values(by='Supervillains', ascending=False).reset_index(drop=True)\n"
   ]
  },
  {
   "cell_type": "code",
   "execution_count": null,
   "id": "b1796ca7",
   "metadata": {},
   "outputs": [
    {
     "data": {
      "text/plain": [
       "                     Company  Supervillains\n",
       "0                         DC            338\n",
       "1                     Marvel            264\n",
       "2          Fawcett Comics/DC              6\n",
       "3                      Image              5\n",
       "4                 Dark Horse              5\n",
       "5              Marvel/Timely              4\n",
       "6            Disney/Hyperion              4\n",
       "7                   Eternity              3\n",
       "8   Lev Gleason Publications              1\n",
       "9                     Mirage              1\n",
       "10                    Comico              1\n",
       "11              Image Comics              1\n",
       "12                       NaN              0\n"
      ]
     },
     "metadata": {},
     "output_type": "display_data"
    }
   ],
   "source": [
    "# Nice display of aforementioned dataframe (sorted by amount of supervillains)\n",
    "df_ranked_company"
   ]
  },
  {
   "cell_type": "markdown",
   "id": "a72c464a",
   "metadata": {},
   "source": [
    "## Stroop challenge\n",
    "\n",
    "Every year between 2015 and 2021, the students in my Language, Cognition, and the Brain course participated in a version of the Stroop task. Using a stopwatch (ok, using their phones), they recorded how fast they could say a list of things (either reading or naming colors or color words). The column names mean \"Reading with No Interference\", \"Naming with Interference\", \"Naming with No Interference\", and \"Reading with Interference\". The times are in seconds.\n",
    "\n",
    "### Stroop challenge 1: \n",
    "Transform these data from wide format to long format, so that the result is a dataframe with\n",
    "- 1 column named \"Participant_id\" with a unique number for each participant (you can use the row indices)\n",
    "- 1 column named \"Year\" with the year data\n",
    "- 1 column named \"Task\" that shows which task they were doing\n",
    "- 1 column named \"RT\" that shows their response time"
   ]
  },
  {
   "cell_type": "code",
   "execution_count": 35,
   "id": "6781809e",
   "metadata": {
    "scrolled": true
   },
   "outputs": [
    {
     "data": {
      "text/html": [
       "<div>\n",
       "<style scoped>\n",
       "    .dataframe tbody tr th:only-of-type {\n",
       "        vertical-align: middle;\n",
       "    }\n",
       "\n",
       "    .dataframe tbody tr th {\n",
       "        vertical-align: top;\n",
       "    }\n",
       "\n",
       "    .dataframe thead th {\n",
       "        text-align: right;\n",
       "    }\n",
       "</style>\n",
       "<table border=\"1\" class=\"dataframe\">\n",
       "  <thead>\n",
       "    <tr style=\"text-align: right;\">\n",
       "      <th></th>\n",
       "      <th>Reading_NoInt</th>\n",
       "      <th>Naming_Int</th>\n",
       "      <th>Naming_NoInt</th>\n",
       "      <th>Reading_Int</th>\n",
       "      <th>Year</th>\n",
       "    </tr>\n",
       "  </thead>\n",
       "  <tbody>\n",
       "    <tr>\n",
       "      <th>0</th>\n",
       "      <td>4.16</td>\n",
       "      <td>6.76</td>\n",
       "      <td>4.45</td>\n",
       "      <td>4.65</td>\n",
       "      <td>2015</td>\n",
       "    </tr>\n",
       "    <tr>\n",
       "      <th>1</th>\n",
       "      <td>4.35</td>\n",
       "      <td>7.73</td>\n",
       "      <td>4.78</td>\n",
       "      <td>4.46</td>\n",
       "      <td>2015</td>\n",
       "    </tr>\n",
       "    <tr>\n",
       "      <th>2</th>\n",
       "      <td>3.60</td>\n",
       "      <td>7.00</td>\n",
       "      <td>4.00</td>\n",
       "      <td>3.50</td>\n",
       "      <td>2015</td>\n",
       "    </tr>\n",
       "    <tr>\n",
       "      <th>3</th>\n",
       "      <td>3.90</td>\n",
       "      <td>9.03</td>\n",
       "      <td>4.60</td>\n",
       "      <td>6.30</td>\n",
       "      <td>2015</td>\n",
       "    </tr>\n",
       "    <tr>\n",
       "      <th>4</th>\n",
       "      <td>4.22</td>\n",
       "      <td>9.98</td>\n",
       "      <td>6.83</td>\n",
       "      <td>6.24</td>\n",
       "      <td>2015</td>\n",
       "    </tr>\n",
       "    <tr>\n",
       "      <th>...</th>\n",
       "      <td>...</td>\n",
       "      <td>...</td>\n",
       "      <td>...</td>\n",
       "      <td>...</td>\n",
       "      <td>...</td>\n",
       "    </tr>\n",
       "    <tr>\n",
       "      <th>176</th>\n",
       "      <td>3.69</td>\n",
       "      <td>6.82</td>\n",
       "      <td>4.54</td>\n",
       "      <td>5.29</td>\n",
       "      <td>2021</td>\n",
       "    </tr>\n",
       "    <tr>\n",
       "      <th>177</th>\n",
       "      <td>4.30</td>\n",
       "      <td>7.08</td>\n",
       "      <td>6.25</td>\n",
       "      <td>4.28</td>\n",
       "      <td>2021</td>\n",
       "    </tr>\n",
       "    <tr>\n",
       "      <th>178</th>\n",
       "      <td>4.75</td>\n",
       "      <td>9.66</td>\n",
       "      <td>6.12</td>\n",
       "      <td>5.49</td>\n",
       "      <td>2021</td>\n",
       "    </tr>\n",
       "    <tr>\n",
       "      <th>179</th>\n",
       "      <td>4.98</td>\n",
       "      <td>7.52</td>\n",
       "      <td>6.73</td>\n",
       "      <td>5.16</td>\n",
       "      <td>2021</td>\n",
       "    </tr>\n",
       "    <tr>\n",
       "      <th>180</th>\n",
       "      <td>5.16</td>\n",
       "      <td>8.81</td>\n",
       "      <td>8.19</td>\n",
       "      <td>5.51</td>\n",
       "      <td>2021</td>\n",
       "    </tr>\n",
       "  </tbody>\n",
       "</table>\n",
       "<p>181 rows × 5 columns</p>\n",
       "</div>"
      ],
      "text/plain": [
       "     Reading_NoInt  Naming_Int  Naming_NoInt  Reading_Int  Year\n",
       "0             4.16        6.76          4.45         4.65  2015\n",
       "1             4.35        7.73          4.78         4.46  2015\n",
       "2             3.60        7.00          4.00         3.50  2015\n",
       "3             3.90        9.03          4.60         6.30  2015\n",
       "4             4.22        9.98          6.83         6.24  2015\n",
       "..             ...         ...           ...          ...   ...\n",
       "176           3.69        6.82          4.54         5.29  2021\n",
       "177           4.30        7.08          6.25         4.28  2021\n",
       "178           4.75        9.66          6.12         5.49  2021\n",
       "179           4.98        7.52          6.73         5.16  2021\n",
       "180           5.16        8.81          8.19         5.51  2021\n",
       "\n",
       "[181 rows x 5 columns]"
      ]
     },
     "execution_count": 35,
     "metadata": {},
     "output_type": "execute_result"
    }
   ],
   "source": [
    "# Starter code 1...\n",
    "\n",
    "df = pd.read_csv(\"https://raw.githubusercontent.com/ethanweed/Stroop/master/Stroop-raw-over-the-years.csv\")\n",
    "df.head(-1)"
   ]
  },
  {
   "cell_type": "code",
   "execution_count": 37,
   "id": "8b238814",
   "metadata": {},
   "outputs": [
    {
     "data": {
      "text/html": [
       "<div>\n",
       "<style scoped>\n",
       "    .dataframe tbody tr th:only-of-type {\n",
       "        vertical-align: middle;\n",
       "    }\n",
       "\n",
       "    .dataframe tbody tr th {\n",
       "        vertical-align: top;\n",
       "    }\n",
       "\n",
       "    .dataframe thead th {\n",
       "        text-align: right;\n",
       "    }\n",
       "</style>\n",
       "<table border=\"1\" class=\"dataframe\">\n",
       "  <thead>\n",
       "    <tr style=\"text-align: right;\">\n",
       "      <th></th>\n",
       "      <th>Reading_NoInt</th>\n",
       "      <th>Naming_Int</th>\n",
       "      <th>Naming_NoInt</th>\n",
       "      <th>Reading_Int</th>\n",
       "      <th>Year</th>\n",
       "      <th>Participant_id</th>\n",
       "    </tr>\n",
       "  </thead>\n",
       "  <tbody>\n",
       "    <tr>\n",
       "      <th>0</th>\n",
       "      <td>4.16</td>\n",
       "      <td>6.76</td>\n",
       "      <td>4.45</td>\n",
       "      <td>4.65</td>\n",
       "      <td>2015</td>\n",
       "      <td>1</td>\n",
       "    </tr>\n",
       "    <tr>\n",
       "      <th>1</th>\n",
       "      <td>4.35</td>\n",
       "      <td>7.73</td>\n",
       "      <td>4.78</td>\n",
       "      <td>4.46</td>\n",
       "      <td>2015</td>\n",
       "      <td>2</td>\n",
       "    </tr>\n",
       "    <tr>\n",
       "      <th>2</th>\n",
       "      <td>3.60</td>\n",
       "      <td>7.00</td>\n",
       "      <td>4.00</td>\n",
       "      <td>3.50</td>\n",
       "      <td>2015</td>\n",
       "      <td>3</td>\n",
       "    </tr>\n",
       "    <tr>\n",
       "      <th>3</th>\n",
       "      <td>3.90</td>\n",
       "      <td>9.03</td>\n",
       "      <td>4.60</td>\n",
       "      <td>6.30</td>\n",
       "      <td>2015</td>\n",
       "      <td>4</td>\n",
       "    </tr>\n",
       "    <tr>\n",
       "      <th>4</th>\n",
       "      <td>4.22</td>\n",
       "      <td>9.98</td>\n",
       "      <td>6.83</td>\n",
       "      <td>6.24</td>\n",
       "      <td>2015</td>\n",
       "      <td>5</td>\n",
       "    </tr>\n",
       "    <tr>\n",
       "      <th>...</th>\n",
       "      <td>...</td>\n",
       "      <td>...</td>\n",
       "      <td>...</td>\n",
       "      <td>...</td>\n",
       "      <td>...</td>\n",
       "      <td>...</td>\n",
       "    </tr>\n",
       "    <tr>\n",
       "      <th>177</th>\n",
       "      <td>4.30</td>\n",
       "      <td>7.08</td>\n",
       "      <td>6.25</td>\n",
       "      <td>4.28</td>\n",
       "      <td>2021</td>\n",
       "      <td>178</td>\n",
       "    </tr>\n",
       "    <tr>\n",
       "      <th>178</th>\n",
       "      <td>4.75</td>\n",
       "      <td>9.66</td>\n",
       "      <td>6.12</td>\n",
       "      <td>5.49</td>\n",
       "      <td>2021</td>\n",
       "      <td>179</td>\n",
       "    </tr>\n",
       "    <tr>\n",
       "      <th>179</th>\n",
       "      <td>4.98</td>\n",
       "      <td>7.52</td>\n",
       "      <td>6.73</td>\n",
       "      <td>5.16</td>\n",
       "      <td>2021</td>\n",
       "      <td>180</td>\n",
       "    </tr>\n",
       "    <tr>\n",
       "      <th>180</th>\n",
       "      <td>5.16</td>\n",
       "      <td>8.81</td>\n",
       "      <td>8.19</td>\n",
       "      <td>5.51</td>\n",
       "      <td>2021</td>\n",
       "      <td>181</td>\n",
       "    </tr>\n",
       "    <tr>\n",
       "      <th>181</th>\n",
       "      <td>4.27</td>\n",
       "      <td>10.40</td>\n",
       "      <td>5.32</td>\n",
       "      <td>4.59</td>\n",
       "      <td>2021</td>\n",
       "      <td>182</td>\n",
       "    </tr>\n",
       "  </tbody>\n",
       "</table>\n",
       "<p>182 rows × 6 columns</p>\n",
       "</div>"
      ],
      "text/plain": [
       "     Reading_NoInt  Naming_Int  Naming_NoInt  Reading_Int  Year  \\\n",
       "0             4.16        6.76          4.45         4.65  2015   \n",
       "1             4.35        7.73          4.78         4.46  2015   \n",
       "2             3.60        7.00          4.00         3.50  2015   \n",
       "3             3.90        9.03          4.60         6.30  2015   \n",
       "4             4.22        9.98          6.83         6.24  2015   \n",
       "..             ...         ...           ...          ...   ...   \n",
       "177           4.30        7.08          6.25         4.28  2021   \n",
       "178           4.75        9.66          6.12         5.49  2021   \n",
       "179           4.98        7.52          6.73         5.16  2021   \n",
       "180           5.16        8.81          8.19         5.51  2021   \n",
       "181           4.27       10.40          5.32         4.59  2021   \n",
       "\n",
       "     Participant_id  \n",
       "0                 1  \n",
       "1                 2  \n",
       "2                 3  \n",
       "3                 4  \n",
       "4                 5  \n",
       "..              ...  \n",
       "177             178  \n",
       "178             179  \n",
       "179             180  \n",
       "180             181  \n",
       "181             182  \n",
       "\n",
       "[182 rows x 6 columns]"
      ]
     },
     "execution_count": 37,
     "metadata": {},
     "output_type": "execute_result"
    }
   ],
   "source": [
    "# Creating a participant ID that is 1-indexed, as every sensible programmer should do\n",
    "# I mean, who starts by counting with 0? \"Let's meet at 0th table\" - said no one ever. Let's just abandon python\n",
    "# and start using Julia instead.\n",
    "df[\"Participant_id\"] = df.index + 1\n",
    "df"
   ]
  },
  {
   "cell_type": "code",
   "execution_count": 38,
   "id": "6c7c531e",
   "metadata": {},
   "outputs": [
    {
     "data": {
      "text/html": [
       "<div>\n",
       "<style scoped>\n",
       "    .dataframe tbody tr th:only-of-type {\n",
       "        vertical-align: middle;\n",
       "    }\n",
       "\n",
       "    .dataframe tbody tr th {\n",
       "        vertical-align: top;\n",
       "    }\n",
       "\n",
       "    .dataframe thead th {\n",
       "        text-align: right;\n",
       "    }\n",
       "</style>\n",
       "<table border=\"1\" class=\"dataframe\">\n",
       "  <thead>\n",
       "    <tr style=\"text-align: right;\">\n",
       "      <th></th>\n",
       "      <th>Participant_id</th>\n",
       "      <th>Year</th>\n",
       "      <th>Task</th>\n",
       "      <th>RT</th>\n",
       "    </tr>\n",
       "  </thead>\n",
       "  <tbody>\n",
       "    <tr>\n",
       "      <th>0</th>\n",
       "      <td>1</td>\n",
       "      <td>2015</td>\n",
       "      <td>Reading_NoInt</td>\n",
       "      <td>4.16</td>\n",
       "    </tr>\n",
       "    <tr>\n",
       "      <th>1</th>\n",
       "      <td>2</td>\n",
       "      <td>2015</td>\n",
       "      <td>Reading_NoInt</td>\n",
       "      <td>4.35</td>\n",
       "    </tr>\n",
       "    <tr>\n",
       "      <th>2</th>\n",
       "      <td>3</td>\n",
       "      <td>2015</td>\n",
       "      <td>Reading_NoInt</td>\n",
       "      <td>3.60</td>\n",
       "    </tr>\n",
       "    <tr>\n",
       "      <th>3</th>\n",
       "      <td>4</td>\n",
       "      <td>2015</td>\n",
       "      <td>Reading_NoInt</td>\n",
       "      <td>3.90</td>\n",
       "    </tr>\n",
       "    <tr>\n",
       "      <th>4</th>\n",
       "      <td>5</td>\n",
       "      <td>2015</td>\n",
       "      <td>Reading_NoInt</td>\n",
       "      <td>4.22</td>\n",
       "    </tr>\n",
       "    <tr>\n",
       "      <th>...</th>\n",
       "      <td>...</td>\n",
       "      <td>...</td>\n",
       "      <td>...</td>\n",
       "      <td>...</td>\n",
       "    </tr>\n",
       "    <tr>\n",
       "      <th>723</th>\n",
       "      <td>178</td>\n",
       "      <td>2021</td>\n",
       "      <td>Reading_Int</td>\n",
       "      <td>4.28</td>\n",
       "    </tr>\n",
       "    <tr>\n",
       "      <th>724</th>\n",
       "      <td>179</td>\n",
       "      <td>2021</td>\n",
       "      <td>Reading_Int</td>\n",
       "      <td>5.49</td>\n",
       "    </tr>\n",
       "    <tr>\n",
       "      <th>725</th>\n",
       "      <td>180</td>\n",
       "      <td>2021</td>\n",
       "      <td>Reading_Int</td>\n",
       "      <td>5.16</td>\n",
       "    </tr>\n",
       "    <tr>\n",
       "      <th>726</th>\n",
       "      <td>181</td>\n",
       "      <td>2021</td>\n",
       "      <td>Reading_Int</td>\n",
       "      <td>5.51</td>\n",
       "    </tr>\n",
       "    <tr>\n",
       "      <th>727</th>\n",
       "      <td>182</td>\n",
       "      <td>2021</td>\n",
       "      <td>Reading_Int</td>\n",
       "      <td>4.59</td>\n",
       "    </tr>\n",
       "  </tbody>\n",
       "</table>\n",
       "<p>728 rows × 4 columns</p>\n",
       "</div>"
      ],
      "text/plain": [
       "     Participant_id  Year           Task    RT\n",
       "0                 1  2015  Reading_NoInt  4.16\n",
       "1                 2  2015  Reading_NoInt  4.35\n",
       "2                 3  2015  Reading_NoInt  3.60\n",
       "3                 4  2015  Reading_NoInt  3.90\n",
       "4                 5  2015  Reading_NoInt  4.22\n",
       "..              ...   ...            ...   ...\n",
       "723             178  2021    Reading_Int  4.28\n",
       "724             179  2021    Reading_Int  5.49\n",
       "725             180  2021    Reading_Int  5.16\n",
       "726             181  2021    Reading_Int  5.51\n",
       "727             182  2021    Reading_Int  4.59\n",
       "\n",
       "[728 rows x 4 columns]"
      ]
     },
     "execution_count": 38,
     "metadata": {},
     "output_type": "execute_result"
    }
   ],
   "source": [
    "# We here use the panda function \"melt\" which is made for this \"pivoting\" of dataframes. Here, we \"melt\" the dataframe\n",
    "# by giving each reaction time a corresponding task row (based on the column title from previous df)\n",
    "# and also a row that specifies the participant and year\n",
    "\n",
    "df_long = pd.melt(\n",
    "    df,\n",
    "    id_vars=[\"Participant_id\", \"Year\"],\n",
    "    var_name=\"Task\",\n",
    "    value_name=\"RT\",\n",
    ")\n",
    "\n",
    "# Showing that this produces the correct amount of rows, as the original dataframe had 182 rows, and 4 reaction time tasks\n",
    "# resulting in 182*4 = 728 rows\n",
    "df_long"
   ]
  },
  {
   "cell_type": "markdown",
   "id": "51655ceb",
   "metadata": {},
   "source": [
    "## Stroop challenge 2 (Advanced!!!):\n",
    "\n",
    "Make a new dataframe which shows the mean response time (in seconds) for each task for each year."
   ]
  },
  {
   "cell_type": "code",
   "execution_count": null,
   "id": "77fcb93b",
   "metadata": {},
   "outputs": [
    {
     "data": {
      "text/plain": [
       "    Year           Task         RT\n",
       "0   2015     Naming_Int   8.617143\n",
       "1   2015   Naming_NoInt   5.123571\n",
       "2   2015    Reading_Int   4.446429\n",
       "3   2015  Reading_NoInt   3.951429\n",
       "4   2016     Naming_Int   8.859268\n",
       "5   2016   Naming_NoInt   5.405610\n",
       "6   2016    Reading_Int   5.340000\n",
       "7   2016  Reading_NoInt   4.076098\n",
       "8   2017     Naming_Int   9.311765\n",
       "9   2017   Naming_NoInt   5.771176\n",
       "10  2017    Reading_Int   5.492353\n",
       "11  2017  Reading_NoInt   4.414412\n",
       "12  2018     Naming_Int   9.372667\n",
       "13  2018   Naming_NoInt   5.298000\n",
       "14  2018    Reading_Int   4.938667\n",
       "15  2018  Reading_NoInt   3.886000\n",
       "16  2019     Naming_Int   9.536087\n",
       "17  2019   Naming_NoInt   6.345652\n",
       "18  2019    Reading_Int   6.090870\n",
       "19  2019  Reading_NoInt   4.935652\n",
       "20  2020     Naming_Int   9.740833\n",
       "21  2020   Naming_NoInt   5.962500\n",
       "22  2020    Reading_Int   4.956667\n",
       "23  2020  Reading_NoInt   4.395000\n",
       "24  2021     Naming_Int  10.105484\n",
       "25  2021   Naming_NoInt   6.387742\n",
       "26  2021    Reading_Int   7.038065\n",
       "27  2021  Reading_NoInt   4.842581\n"
      ]
     },
     "metadata": {},
     "output_type": "display_data"
    }
   ],
   "source": [
    "# We simply just use the group_by function, which makes it really easy to make aggregates and means as in this case\n",
    "# We group by the year and the task, and then set it to give us the mean for each\n",
    "mean_rt_per_task_year = df_long.groupby([\"Year\", \"Task\"])[\"RT\"].mean().reset_index()\n",
    "\n",
    "print(mean_rt_per_task_year)"
   ]
  }
 ],
 "metadata": {
  "kernelspec": {
   "display_name": "CulturalDataScience",
   "language": "python",
   "name": "python3"
  },
  "language_info": {
   "codemirror_mode": {
    "name": "ipython",
    "version": 3
   },
   "file_extension": ".py",
   "mimetype": "text/x-python",
   "name": "python",
   "nbconvert_exporter": "python",
   "pygments_lexer": "ipython3",
   "version": "3.11.5"
  }
 },
 "nbformat": 4,
 "nbformat_minor": 5
}
